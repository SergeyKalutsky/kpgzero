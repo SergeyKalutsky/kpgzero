{
 "cells": [
  {
   "cell_type": "code",
   "execution_count": null,
   "id": "occasional-beatles",
   "metadata": {},
   "outputs": [],
   "source": []
  },
  {
   "cell_type": "code",
   "execution_count": 2,
   "id": "governmental-karma",
   "metadata": {},
   "outputs": [],
   "source": [
    "import itertools\n",
    "BLOCK_POSITIONS = [\n",
    "    (350, 50),\n",
    "    (350, 350),\n",
    "    (50, 350),\n",
    "    (50, 50),\n",
    "]\n",
    "# The \"cycle()\" function will let us cycle through the positions indefinitely\n",
    "block_positions = itertools.cycle(BLOCK_POSITIONS)"
   ]
  },
  {
   "cell_type": "code",
   "execution_count": 9,
   "id": "loaded-links",
   "metadata": {},
   "outputs": [
    {
     "data": {
      "text/plain": [
       "0"
      ]
     },
     "execution_count": 9,
     "metadata": {},
     "output_type": "execute_result"
    }
   ],
   "source": [
    "4 % 4"
   ]
  },
  {
   "cell_type": "code",
   "execution_count": 11,
   "id": "indirect-migration",
   "metadata": {},
   "outputs": [
    {
     "data": {
      "text/plain": [
       "0.3999999999999999"
      ]
     },
     "execution_count": 11,
     "metadata": {},
     "output_type": "execute_result"
    }
   ],
   "source": [
    "3.4 % 1"
   ]
  },
  {
   "cell_type": "code",
   "execution_count": null,
   "id": "indirect-stack",
   "metadata": {},
   "outputs": [],
   "source": []
  }
 ],
 "metadata": {
  "kernelspec": {
   "display_name": "Python 3",
   "language": "python",
   "name": "python3"
  },
  "language_info": {
   "codemirror_mode": {
    "name": "ipython",
    "version": 3
   },
   "file_extension": ".py",
   "mimetype": "text/x-python",
   "name": "python",
   "nbconvert_exporter": "python",
   "pygments_lexer": "ipython3",
   "version": "3.8.5"
  }
 },
 "nbformat": 4,
 "nbformat_minor": 5
}
