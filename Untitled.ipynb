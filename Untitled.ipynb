{
 "cells": [
  {
   "cell_type": "code",
   "execution_count": 1,
   "id": "floral-guatemala",
   "metadata": {},
   "outputs": [],
   "source": [
    "import heapq"
   ]
  },
  {
   "cell_type": "code",
   "execution_count": 2,
   "id": "dominant-nicaragua",
   "metadata": {},
   "outputs": [],
   "source": [
    "# initializing list 1\n",
    "li1 = [5, 7, 9, 4, 3]\n",
    "  \n",
    "# initializing list 2\n",
    "li2 = [5, 7, 9, 4, 3]\n",
    "  \n",
    "# using heapify() to convert list into heap\n",
    "heapq.heapify(li1)\n",
    "heapq.heapify(li2)"
   ]
  },
  {
   "cell_type": "code",
   "execution_count": 4,
   "id": "offshore-denver",
   "metadata": {},
   "outputs": [
    {
     "data": {
      "text/plain": [
       "[3, 4, 9, 5, 7]"
      ]
     },
     "execution_count": 4,
     "metadata": {},
     "output_type": "execute_result"
    }
   ],
   "source": [
    "li1"
   ]
  },
  {
   "cell_type": "code",
   "execution_count": 3,
   "id": "described-killer",
   "metadata": {},
   "outputs": [
    {
     "name": "stdout",
     "output_type": "stream",
     "text": [
      "2\n"
     ]
    }
   ],
   "source": [
    "print(heapq.heappushpop(li1, 2))"
   ]
  },
  {
   "cell_type": "code",
   "execution_count": 6,
   "id": "thousand-tennessee",
   "metadata": {},
   "outputs": [],
   "source": [
    "# importing \"heapq\" to implement heap queue\n",
    "import heapq"
   ]
  },
  {
   "cell_type": "code",
   "execution_count": 7,
   "id": "romance-spirituality",
   "metadata": {},
   "outputs": [
    {
     "name": "stdout",
     "output_type": "stream",
     "text": [
      "[1, 3, 5, 4, 6, 9, 8, 10, 7]\n"
     ]
    }
   ],
   "source": [
    "li1 = [6, 7, 9, 4, 3, 5, 8, 10, 1]\n",
    "  \n",
    "heapq.heapify(li1)\n",
    "print(li1)"
   ]
  },
  {
   "cell_type": "code",
   "execution_count": 8,
   "id": "tribal-fabric",
   "metadata": {},
   "outputs": [],
   "source": [
    "heapq.heappush(li1, 2)"
   ]
  },
  {
   "cell_type": "code",
   "execution_count": 11,
   "id": "large-today",
   "metadata": {},
   "outputs": [
    {
     "data": {
      "text/plain": [
       "1"
      ]
     },
     "execution_count": 11,
     "metadata": {},
     "output_type": "execute_result"
    }
   ],
   "source": [
    "heapq.heappop(li1)"
   ]
  },
  {
   "cell_type": "code",
   "execution_count": null,
   "id": "asian-payroll",
   "metadata": {},
   "outputs": [],
   "source": []
  }
 ],
 "metadata": {
  "kernelspec": {
   "display_name": "Python 3",
   "language": "python",
   "name": "python3"
  },
  "language_info": {
   "codemirror_mode": {
    "name": "ipython",
    "version": 3
   },
   "file_extension": ".py",
   "mimetype": "text/x-python",
   "name": "python",
   "nbconvert_exporter": "python",
   "pygments_lexer": "ipython3",
   "version": "3.8.5"
  }
 },
 "nbformat": 4,
 "nbformat_minor": 5
}
